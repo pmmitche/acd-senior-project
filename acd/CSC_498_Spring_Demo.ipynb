{
 "metadata": {
  "language_info": {
   "codemirror_mode": {
    "name": "ipython",
    "version": 3
   },
   "file_extension": ".py",
   "mimetype": "text/x-python",
   "name": "python",
   "nbconvert_exporter": "python",
   "pygments_lexer": "ipython3",
   "version": "3.8.8"
  },
  "orig_nbformat": 2,
  "kernelspec": {
   "name": "python388jvsc74a57bd0aee8b7b246df8f9039afb4144a1f6fd8d2ca17a180786b69acc140d282b71a49",
   "display_name": "Python 3.8.8 64-bit"
  },
  "metadata": {
   "interpreter": {
    "hash": "aee8b7b246df8f9039afb4144a1f6fd8d2ca17a180786b69acc140d282b71a49"
   }
  }
 },
 "nbformat": 4,
 "nbformat_minor": 2,
 "cells": [
  {
   "source": [
    "# Running Automatic Concept Detection with TCAV"
   ],
   "cell_type": "markdown",
   "metadata": {}
  },
  {
   "source": [
    "This notebook walks you through an example application of Automatic Concept Detection with the TCAV library step-by-step to understand which human interpretable texture concepts (e.g. stripes, dots, zigzags) are important to the image classifier GoogleNet's (a.k.a. Inception v1) prediction of some target object you decide."
   ],
   "cell_type": "markdown",
   "metadata": {}
  },
  {
   "source": [
    "## Install required packages\n",
    "\n",
    "To run through this notebook in the interim, you are encouraged to utilize a `virtualenv` or `conda` environment for installing and working with the required packages to avoid any dependency and compatability issues with different versions of packages."
   ],
   "cell_type": "markdown",
   "metadata": {}
  },
  {
   "cell_type": "code",
   "execution_count": null,
   "metadata": {},
   "outputs": [],
   "source": [
    "%pip install tensorflow\n",
    "%pip install tcav"
   ]
  },
  {
   "source": [
    "## Execute ACD with TCAV\n",
    "\n",
    "Open a terminal and run the following command:\n",
    "\n",
    "\n",
    "```\n",
    "python3 automatic_concept_detection_driver.py --target=\"volleyball\" --n=3 --number_of_images_per_folder=15 --number_of_random_folders=5\n",
    "```\n",
    "\n",
    "\n",
    "**OR**, execute the below code cell, which is shell execution of the above command. The only caveat to not running it yourself in a terminal is that Jupyter Notebook's won't show matplotlib charts when executing a program through a shell command. If you you the above command in a terminal yourself, you will be able to see a visual of the ACD TCAV most important scores shown below.\n",
    "\n",
    "\n",
    "<br />\n",
    "The command line arguments are defined as:  \n",
    "<br />   \n",
    "\n",
    "\n",
    "<u>**target**</u>: Name of target object we wish to run TCAV for.\n",
    "\n",
    "<u>**n**</u>: Number of most important concepts to display. To display all, omit this flag.\n",
    "\n",
    "<u>**number_of_images_per_folder**</u>: Number of images to be included in each folder.\n",
    "\n",
    "<u>**number_of_random_folders**</u>: Number of folders with random examples that we will generate for tcav.\n"
   ],
   "cell_type": "markdown",
   "metadata": {}
  },
  {
   "cell_type": "code",
   "execution_count": null,
   "metadata": {},
   "outputs": [],
   "source": [
    "! python3 automatic_concept_detection_driver.py --target=\"volleyball\" --n=3 --number_of_images_per_folder=15 --number_of_random_folders=3"
   ]
  }
 ]
}